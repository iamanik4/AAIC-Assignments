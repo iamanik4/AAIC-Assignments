{
 "cells": [
  {
   "cell_type": "code",
   "execution_count": 12,
   "metadata": {},
   "outputs": [
    {
     "name": "stdout",
     "output_type": "stream",
     "text": [
      "Enter the Number : 19\n",
      "19X1 = 19\n",
      "19X2 = 38\n",
      "19X3 = 57\n",
      "19X4 = 76\n",
      "19X5 = 95\n",
      "19X6 = 114\n",
      "19X7 = 133\n",
      "19X8 = 152\n",
      "19X9 = 171\n",
      "19X10 = 190\n"
     ]
    }
   ],
   "source": [
    "# Que1. Write a function that inputs a number and prints the multiplication table of that number.\n",
    "\n",
    "def multi(num):\n",
    "    \"\"\" This function produces multiplication table of a number\n",
    "    \"\"\"\n",
    "    for i in range(1,11):\n",
    "        print(\"{}X{} =\".format(num,i),i*num)\n",
    "        \n",
    "# Take the number as input\n",
    "number=int(input(\"Enter the Number : \"))\n",
    "\n",
    "# Call the multiplication function\n",
    "multi(number)\n"
   ]
  },
  {
   "cell_type": "code",
   "execution_count": 13,
   "metadata": {},
   "outputs": [
    {
     "name": "stdout",
     "output_type": "stream",
     "text": [
      "[ 3 5 ]\n",
      "[ 5 7 ]\n",
      "[ 11 13 ]\n",
      "[ 17 19 ]\n",
      "[ 29 31 ]\n",
      "[ 41 43 ]\n",
      "[ 59 61 ]\n",
      "[ 71 73 ]\n",
      "[ 101 103 ]\n",
      "[ 107 109 ]\n",
      "[ 137 139 ]\n",
      "[ 149 151 ]\n",
      "[ 179 181 ]\n",
      "[ 191 193 ]\n",
      "[ 197 199 ]\n",
      "[ 227 229 ]\n",
      "[ 239 241 ]\n",
      "[ 269 271 ]\n",
      "[ 281 283 ]\n",
      "[ 311 313 ]\n",
      "[ 347 349 ]\n",
      "[ 419 421 ]\n",
      "[ 431 433 ]\n",
      "[ 461 463 ]\n",
      "[ 521 523 ]\n",
      "[ 569 571 ]\n",
      "[ 599 601 ]\n",
      "[ 617 619 ]\n",
      "[ 641 643 ]\n",
      "[ 659 661 ]\n",
      "[ 809 811 ]\n",
      "[ 821 823 ]\n",
      "[ 827 829 ]\n",
      "[ 857 859 ]\n",
      "[ 881 883 ]\n"
     ]
    }
   ],
   "source": [
    "# Que2. Write a program to print twin primes less than 1000. If two consecutive odd numbers are both prime then they are \n",
    "# known as twin primes\n",
    "\n",
    "#Below code prints the pairs of twin prime numbers below 1000.\n",
    "lastprime=-1\n",
    "\n",
    "for i in range(1,1000):\n",
    "    for j in range(2,i):\n",
    "        if i%j == 0:\n",
    "            break\n",
    "        elif j == i-1 :\n",
    "            if (lastprime != -1) & (lastprime == i-2):\n",
    "                print('[',lastprime,i,']')\n",
    "            lastprime=i\n",
    "            "
   ]
  },
  {
   "cell_type": "code",
   "execution_count": 14,
   "metadata": {},
   "outputs": [
    {
     "name": "stdout",
     "output_type": "stream",
     "text": [
      "Please enter the number: 56\n",
      "Prime factors of the number 56 are :  [2, 2, 2, 7]\n"
     ]
    }
   ],
   "source": [
    "# Que3. Write a program to find out the prime factors of a number. Example: prime factors of 56 - 2, 2, 2, 7\n",
    "\n",
    "import math\n",
    "\n",
    "def isPrime(num):\n",
    "    \"\"\" This function checks whether a number is prime or not and returns True/False accordingly\n",
    "    \"\"\"\n",
    "    if  (num == 1) or  (num == 2):\n",
    "        return True\n",
    "    for i in range(2,num):\n",
    "        if num %i == 0:\n",
    "            return False\n",
    "            break\n",
    "        elif (i == num-1):\n",
    "            return True\n",
    "                \n",
    "def primFact(num):\n",
    "    \"\"\" This function finds out prime factors of a number\n",
    "    \"\"\"\n",
    "    primefact=[]\n",
    "    while not isPrime(num):\n",
    "        for i in range(2,num+1):\n",
    "            if num%i == 0:\n",
    "                primefact.append(i)\n",
    "                num=num//i\n",
    "                if isPrime(num):\n",
    "                    primefact.append(num)\n",
    "                break\n",
    "    return primefact\n",
    "    \n",
    "# Take the number as input and print the prime factors\n",
    "number=int(input(\"Please enter the number: \"))\n",
    "\n",
    "#Print the prime factors of the number\n",
    "print(\"Prime factors of the number {} are : \".format(number), primFact(number))\n"
   ]
  },
  {
   "cell_type": "code",
   "execution_count": 15,
   "metadata": {},
   "outputs": [
    {
     "name": "stdout",
     "output_type": "stream",
     "text": [
      "Please enter number of Objects n : 50\n",
      "Please enter the no. of Objects taken at a time : 3\n",
      "Number of permutations p(50,3) =  117600.0\n",
      "Number of combinations c(50,3) = 19600.0\n"
     ]
    }
   ],
   "source": [
    "# Que4. Write a program to implement these formulae of permutations and combinations. Number of permutations of n objects taken\n",
    "# r at a time: p(n, r) = n! / (n-r)!.  \n",
    "# Number of combinations of n objects taken r at a time is: c(n, r) = n! / (r!*(n-r)!) = p(n,r) / r!\n",
    "\n",
    "from functools import reduce \n",
    "\n",
    "def mult(num1,num2):\n",
    "    \"\"\"Returns multiplications of two numbers\n",
    "    \"\"\"\n",
    "    return num1*num2\n",
    "\n",
    "def pnr(n,r):\n",
    "    \"\"\" Returns npr for a give n & r\n",
    "    \"\"\"\n",
    "    return reduce(mult,range(1,n+1))/reduce(mult,range(1,n-r+1))\n",
    "    \n",
    "def cnr(n,r):\n",
    "    \"\"\" Returns ncr for a give n & r\n",
    "    \"\"\"\n",
    "    return pnr(n,r)/reduce(mult,range(1,r+1))\n",
    "    \n",
    "# Take inputs\n",
    "num=int(input(\"Please enter number of Objects n : \"))\n",
    "fre=int(input(\"Please enter the no. of Objects taken at a time : \"))\n",
    "\n",
    "# print npr and ncr outputs\n",
    "print('Number of permutations p({},{}) = '.format(num,fre),pnr(num,fre))\n",
    "print('Number of combinations c({},{}) ='.format(num,fre),cnr(num,fre))\n"
   ]
  },
  {
   "cell_type": "code",
   "execution_count": 16,
   "metadata": {},
   "outputs": [
    {
     "name": "stdout",
     "output_type": "stream",
     "text": [
      "Enter the number : 23\n",
      "Binary equivalent of decimal 23 is :  [1, 0, 1, 1, 1]\n"
     ]
    }
   ],
   "source": [
    "# Que5. Write a function that converts a decimal number to binary number\n",
    "\n",
    "import numpy as np\n",
    "\n",
    "binnum=[]\n",
    "def dectobin(num):\n",
    "    \"\"\" This finction take a number and produces its binary equivalent\n",
    "    \"\"\"\n",
    "    binnum.append(int(num%2))\n",
    "    num=np.floor(num/2)\n",
    "    return binnum if num == 0 else dectobin(num)\n",
    "    \n",
    "# Take number as input\n",
    "num=int(input(\"Enter the number : \"))\n",
    "\n",
    "# Print binary equivalent of the number entered\n",
    "print(\"Binary equivalent of decimal {} is : \".format(num),dectobin(num)[::-1])\n"
   ]
  },
  {
   "cell_type": "code",
   "execution_count": 17,
   "metadata": {},
   "outputs": [
    {
     "name": "stdout",
     "output_type": "stream",
     "text": [
      "Enter the range for Armstrong Number : 300\n",
      "Armstrong numbers are : [1, 153]\n"
     ]
    }
   ],
   "source": [
    "# Que6. Write a function cubesum() that accepts an integer and returns the sum of the cubes of individual digits of that number.\n",
    "# Use this function to make functions PrintArmstrong() and isArmstrong() to print Armstrong numbers and to find whether is an\n",
    "# Armstrong number.\n",
    "\n",
    "def cubesum(num):\n",
    "    \"\"\" This function returns the sum of cube of digits of a number\n",
    "    \"\"\"\n",
    "    cube=0\n",
    "    for i in str(num):\n",
    "        cube = cube + int(i)**3\n",
    "    return(cube)\n",
    "\n",
    "def isArmstrong(num):\n",
    "    \"\"\" This function checks whether a number is Armstrong number or not\n",
    "    \"\"\"\n",
    "    if num == cubesum(num):\n",
    "        return True\n",
    "   \n",
    "def PrintArmstrong(num):\n",
    "    \"\"\" This function prints all Armstrong number beolow the number provided\n",
    "    \"\"\"\n",
    "    armst=[]\n",
    "    for i in range(1,num+1):\n",
    "        if isArmstrong(i):\n",
    "            armst.append(i)\n",
    "    return armst\n",
    "     \n",
    "# Take the number as input\n",
    "num=int(input(\"Enter the range for Armstrong Number : \"))\n",
    "\n",
    "# Print Armstrong number\n",
    "print(\"Armstrong numbers are :\",PrintArmstrong(num))\n"
   ]
  },
  {
   "cell_type": "code",
   "execution_count": 67,
   "metadata": {},
   "outputs": [
    {
     "name": "stdout",
     "output_type": "stream",
     "text": [
      "Enter a number : 234\n",
      "Product of Digits is :  24\n"
     ]
    }
   ],
   "source": [
    "# Que7. Write a function prodDigits() that inputs a number and returns the product of digits of that number\n",
    "\n",
    "def prodDigits(num):\n",
    "    \"\"\" This function returns the product of digits of a number\n",
    "    \"\"\"\n",
    "    prod=1\n",
    "    for i in str(num):\n",
    "        prod=int(i)*prod\n",
    "    return prod\n",
    "\n",
    "# Take the number as input\n",
    "num=int(input(\"Enter a number : \"))\n",
    "\n",
    "# Print product of digits\n",
    "print(\"Product of Digits is : \",prodDigits(num))\n"
   ]
  },
  {
   "cell_type": "code",
   "execution_count": 69,
   "metadata": {},
   "outputs": [
    {
     "name": "stdout",
     "output_type": "stream",
     "text": [
      "Enter  The Number: 2347\n",
      "MDR of 2347 is :  6\n",
      "MPersistence of 2347 is :  4\n"
     ]
    }
   ],
   "source": [
    "# Que8. If all digits of a number n are multiplied by each other repeating with the product, the one digit number obtained at\n",
    "#last is called the multiplicative digital root of n. The number of times digits need to be multiplied to reach one digit is\n",
    "#called the multiplicative persistance of n. \n",
    "#Example: 86 -> 48 -> 32 -> 6 (MDR 6, MPersistence 3)\n",
    "# 341 -> 12->2           (MDR 2, MPersistence 2) \n",
    "# Using the function prodDigits() of previous exercise write functions MDR() and MPersistence() that input a number and return \n",
    "# its multiplicative digital root and multiplicative persistence respectively\n",
    "\n",
    "\n",
    "def MDR(num):\n",
    "    \"\"\"Returns the multiplicative digital root of a number using prodDigits() function.\n",
    "    \"\"\"\n",
    "    return num if len(str(num)) == 1 else MDR(prodDigits(num))\n",
    "\n",
    "def MPersistence(num,pers):\n",
    "    \"\"\"Returns the multiplicative persitence of a number using prodDigits() function.\n",
    "    \"\"\"\n",
    "    return pers if len(str(num)) == 1 else MPersistence(prodDigits(num),pers+1)\n",
    "    \n",
    "# Take the number as input. \n",
    "number=int(input(\"Enter  The Number: \"))\n",
    "\n",
    "#Print MDR of the number\n",
    "print(\"MDR of {} is : \".format(number),MDR(number))\n",
    "\n",
    "#Print MPersistence of the number\n",
    "print(\"MPersistence of {} is : \".format(number),MPersistence(number,0))\n"
   ]
  },
  {
   "cell_type": "code",
   "execution_count": 33,
   "metadata": {},
   "outputs": [
    {
     "name": "stdout",
     "output_type": "stream",
     "text": [
      "Enter the number : 284\n",
      "sum of Proper divisors of 284 is :  220\n"
     ]
    }
   ],
   "source": [
    "# Que9. Write a function sumPdivisors() that finds the sum of proper divisors of a number. Proper divisors of a number are\n",
    "# those numbers by which the number is divisible, except the number itself.  For example proper divisors of 36 are\n",
    "# 1, 2, 3, 4, 6, 9, 12, 18\n",
    "\n",
    "def sumPdivisors(num):\n",
    "    \"\"\"This function finds out the sum of the proper divisors of a given number\n",
    "    \"\"\"\n",
    "    sumpdiv=0\n",
    "    proplist=[]\n",
    "    \n",
    "    for i in range(1,num):\n",
    "        if num%i == 0:\n",
    "            proplist.append(i)\n",
    "            sumpdiv=i+sumpdiv\n",
    "    return  sumpdiv\n",
    "\n",
    "\n",
    "#Take the number as input\n",
    "num=int(input(\"Enter the number : \"))\n",
    "\n",
    "#Print sum of Proper Divisors\n",
    "print(\"sum of Proper divisors of {} is : \".format(num),sumPdivisors(num))\n"
   ]
  },
  {
   "cell_type": "code",
   "execution_count": 81,
   "metadata": {},
   "outputs": [
    {
     "name": "stdout",
     "output_type": "stream",
     "text": [
      "Enter the lower range : 10\n",
      "Enter the upper range : 100\n",
      "Perfect numbers in range 10-100 are :  [28]\n"
     ]
    }
   ],
   "source": [
    "# Que10. A number is called perfect if the sum of proper divisors of that number is equal to the number. For example 28 is\n",
    "# perfect number, since 1+2+4+7+14=28. Write a program to print all the perfect numbers in a given range\n",
    "\n",
    "\n",
    "def printperfect(low,upp):\n",
    "    \"\"\" This function checks whether a number is perfect or not\n",
    "    \"\"\"\n",
    "    perf=[]\n",
    "    for i in range(low,upp+1):\n",
    "        if i == sumPdivisors(i):\n",
    "            perf.append(i)\n",
    "    return perf\n",
    "\n",
    "# Take the range numbers as input\n",
    "low=int(input(\"Enter the lower range : \"))\n",
    "upp=int(input(\"Enter the upper range : \"))\n",
    "\n",
    "# Print all the perfect numbers in the range\n",
    "print(\"Perfect numbers in range {}-{} are : \".format(low,upp),printperfect(low,upp))\n"
   ]
  },
  {
   "cell_type": "code",
   "execution_count": 36,
   "metadata": {},
   "outputs": [
    {
     "name": "stdout",
     "output_type": "stream",
     "text": [
      "Enter the lower range : 500\n",
      "Enter the upper range : 1000\n",
      "Amicable numbers in range 500-1000 are :  []\n"
     ]
    }
   ],
   "source": [
    "# Que11. Two different numbers are called amicable numbers if the sum of the proper divisors of each is equal to the other\n",
    "# number. For example 220 and 284 are amicable numbers. Sum of proper divisors of \n",
    "# 220 = 1+2+4+5+10+11+20+22+44+55+110 = 284 Sum of proper divisors of \n",
    "# 284 = 1+2+4+71+142 = 220 Write a function to print pairs of amicable numbers in a range\n",
    "\n",
    "\n",
    "def amic(low,upp):\n",
    "    \"\"\" This function finds the amicable numbers in a given range\n",
    "    \"\"\"\n",
    "    amic=[]\n",
    "    for i in range(low,upp+1):\n",
    "        for j in range(low,upp+1):\n",
    "            if ((sumPdivisors(i) == j) & (sumPdivisors(j) == i)):\n",
    "                amic.append((i,j))\n",
    "    return amic\n",
    "\n",
    "# Enter the range limits\n",
    "low=int(input(\"Enter the lower range : \"))\n",
    "upp=int(input(\"Enter the upper range : \"))\n",
    "\n",
    "# Print Amicable numbers\n",
    "print(\"Amicable numbers in range {}-{} are : \".format(low,upp), amic(low,upp))\n"
   ]
  },
  {
   "cell_type": "code",
   "execution_count": 24,
   "metadata": {},
   "outputs": [
    {
     "name": "stdout",
     "output_type": "stream",
     "text": [
      "Filtered odd numbers list is :  [2, 4, 6, 8, 10]\n"
     ]
    }
   ],
   "source": [
    "# Que12. Write a program which can filter odd numbers in a list by using filter function\n",
    "\n",
    "def checkeven(num):\n",
    "    \"\"\" This function checks whether a number is even or not and returns True/False accordingly\n",
    "    \"\"\"\n",
    "    if num%2 == 0:\n",
    "        return True \n",
    "    \n",
    "#List to check\n",
    "numberlist=[1,2,3,4,5,6,7,8,9,10]\n",
    "\n",
    "#Print filtered odd numbers list\n",
    "print(\"Filtered odd numbers list is : \" ,list(filter(checkeven,numberlist)))\n"
   ]
  },
  {
   "cell_type": "code",
   "execution_count": 22,
   "metadata": {},
   "outputs": [
    {
     "name": "stdout",
     "output_type": "stream",
     "text": [
      "Mapped Cube list is :  [1, 8, 27, 64, 125, 216, 343, 512, 729, 1000]\n"
     ]
    }
   ],
   "source": [
    "# Que13. Write a program which can map() to make a list whose elements are cube of elements in a given list\n",
    "\n",
    "def cube(num):\n",
    "    \"\"\" This function returns the cube of a number\n",
    "    \"\"\"\n",
    "    return num**3\n",
    "\n",
    "#List to map\n",
    "numbers=[1,2,3,4,5,6,7,8,9,10]\n",
    "\n",
    "# Print cube elemnets\n",
    "print(\"Mapped Cube list is : \" , list(map(cube,numbers)))\n"
   ]
  },
  {
   "cell_type": "code",
   "execution_count": 37,
   "metadata": {},
   "outputs": [
    {
     "name": "stdout",
     "output_type": "stream",
     "text": [
      "Cube of even numbers of the list is : [8, 64, 216, 512, 1000]\n"
     ]
    }
   ],
   "source": [
    "# Que14. Write a program which can map() and filter() to make a list whose elements are cube of even number in a given list\n",
    "\n",
    "numbers=[1,2,3,4,5,6,7,8,9,10]\n",
    "\n",
    "print(\"Cube of even numbers of the list is :\", list(map(cube,list(filter(checkeven,numbers)))))\n"
   ]
  }
 ],
 "metadata": {
  "kernelspec": {
   "display_name": "Python 3",
   "language": "python",
   "name": "python3"
  },
  "language_info": {
   "codemirror_mode": {
    "name": "ipython",
    "version": 3
   },
   "file_extension": ".py",
   "mimetype": "text/x-python",
   "name": "python",
   "nbconvert_exporter": "python",
   "pygments_lexer": "ipython3",
   "version": "3.7.3"
  }
 },
 "nbformat": 4,
 "nbformat_minor": 2
}
